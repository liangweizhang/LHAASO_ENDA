{
 "cells": [
  {
   "cell_type": "code",
   "execution_count": 71,
   "metadata": {},
   "outputs": [],
   "source": [
    "\n",
    "import os"
   ]
  },
  {
   "cell_type": "code",
   "execution_count": 79,
   "metadata": {},
   "outputs": [],
   "source": [
    "def readNT(FileName):\n",
    "    fp=open(FileName,mode='r')\n",
    "    fileData=fp.name\n",
    "    line=fp.readline()\n",
    "    SumNum=0;\n",
    "    MAS_NUM=[0,0,0,0,0]\n",
    "    while line:\n",
    "        blankChar = 0\n",
    "        MAS=0;\n",
    "        for i in line:\n",
    "            if(blankChar == 5):\n",
    "                MAS=i\n",
    "                break\n",
    "            if (i==\" \"):\n",
    "                blankChar+=1\n",
    "        if(MAS=='0'):\n",
    "            MAS_NUM[0]+=1\n",
    "        elif(MAS=='1'):\n",
    "             MAS_NUM[1]+=1\n",
    "        elif(MAS=='3'):\n",
    "            MAS_NUM[2]+=1\n",
    "        elif(MAS=='5'):\n",
    "            MAS_NUM[3]+=1\n",
    "        elif(MAS=='7'):\n",
    "            MAS_NUM[4]+=1\n",
    "        SumNum+=1\n",
    "        line=fp.readline()\n",
    "    fp.close()\n",
    "    \n",
    "    if(SumNum!=0):\n",
    "        print(\"事例时间:\",fp.name)\n",
    "        print(MAS_NUM,SumNum)\n",
    "        print(\"M1事例比例： {:.2%}'\".format(MAS_NUM[1]/(SumNum-MAS_NUM[0])))\n",
    "        print(\"M3事例比例： {:.2%}'\".format(MAS_NUM[2]/(SumNum-MAS_NUM[0])))\n",
    "        print(\"M5事例比例： {:.2%}'\".format(MAS_NUM[3]/(SumNum-MAS_NUM[0])))\n",
    "        print(\"M7事例比例： {:.2%}'\".format(MAS_NUM[4]/(SumNum-MAS_NUM[0])))"
   ]
  },
  {
   "cell_type": "code",
   "execution_count": 80,
   "metadata": {
    "scrolled": false
   },
   "outputs": [
    {
     "name": "stdout",
     "output_type": "stream",
     "text": [
      "事例时间: .\\ReadData\\Nt17-07-2020.txt\n",
      "[287, 1396, 271, 185, 6] 2145\n",
      "M1事例比例： 75.13%'\n",
      "M3事例比例： 14.59%'\n",
      "M5事例比例： 9.96%'\n",
      "M7事例比例： 0.32%'\n",
      "事例时间: .\\ReadData\\Nt18-07-2020.txt\n",
      "[288, 2604, 480, 1105, 51] 4528\n",
      "M1事例比例： 61.42%'\n",
      "M3事例比例： 11.32%'\n",
      "M5事例比例： 26.06%'\n",
      "M7事例比例： 1.20%'\n",
      "事例时间: .\\ReadData\\Nt19-07-2020.txt\n",
      "[288, 2142, 426, 122, 9] 2987\n",
      "M1事例比例： 79.36%'\n",
      "M3事例比例： 15.78%'\n",
      "M5事例比例： 4.52%'\n",
      "M7事例比例： 0.33%'\n"
     ]
    }
   ],
   "source": [
    "path=r'G:\\MyPython\\00_LHASSO_ENDA事例比例统计\\ReadData'\n",
    "for i in os.walk(path):\n",
    "    path_tuple=i\n",
    "\n",
    "for name in path_tuple[2]:\n",
    "    txtpath=\".\\ReadData\"+\"\\\\\"+name\n",
    "    readNT(txtpath)"
   ]
  },
  {
   "cell_type": "code",
   "execution_count": null,
   "metadata": {},
   "outputs": [],
   "source": []
  }
 ],
 "metadata": {
  "kernelspec": {
   "display_name": "Python 3",
   "language": "python",
   "name": "python3"
  },
  "language_info": {
   "codemirror_mode": {
    "name": "ipython",
    "version": 3
   },
   "file_extension": ".py",
   "mimetype": "text/x-python",
   "name": "python",
   "nbconvert_exporter": "python",
   "pygments_lexer": "ipython3",
   "version": "3.7.6"
  }
 },
 "nbformat": 4,
 "nbformat_minor": 4
}
